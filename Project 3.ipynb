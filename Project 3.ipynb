{
 "cells": [
  {
   "cell_type": "markdown",
   "metadata": {},
   "source": [
    "### Data 620 | Project 3\n",
    "\n",
    "#### Team 3: Scott Karr, Omar Pineda Jr., Vikas Sinha, Aryeh Sturm, Antonio Bayquen\n",
    "\n",
    "https://www.nltk.org/book/ch06.html\n",
    "\n",
    "#### This work is a recitation of the gender classification exercise in Chapter 6 of Natural Language Processing with Python along with revisions to the gender features extractor which improve performance on the test set to 82.4%.\n",
    "\n",
    "\n",
    "# Requirements:\n",
    "Project 3 - This is a Team Project!\n",
    "<center>------------------------------------------------------------------------------------------- o ----------------------------------------------------------------------------------------</center>\n",
    "For this project, please work with the entire class as one collaborative group! Your project should be submitted (as a Jupyter Notebook via GitHub) by end of the due date. The group should present their code and findings in our meetup.\n",
    "\n",
    "The ability to be an effective member of a virtual team is highly valued in the data science job market.\n",
    "<center>------------------------------------------------------------------------------------------- o ----------------------------------------------------------------------------------------</center>\n",
    "\n",
    "\n",
    "Using any of the three classifiers described in chapter 6 of Natural Language Processing with Python, and any features you can think of, build the best name gender classifier you can.\n",
    "\n",
    "Begin by splitting the Names Corpus into three subsets: \n",
    "\n",
    "        (1) 500 words for the test set\n",
    "        (2) 500 words for the dev- test set, and \n",
    "        (3) the remaining 6900 words for the training set \n",
    "        \n",
    "Then, starting with the example name gender classifier, make incremental improvements. Use the dev-test set to check your progress. Once you are satisfied with your classifier, check its final performance on the test set.\n",
    "\n",
    "How does the performance on the test set compare to the performance on the dev-test set? Is this what you'd expect?\n",
    "Source: Natural Language Processing with Python, exercise 6.10.2."
   ]
  },
  {
   "cell_type": "markdown",
   "metadata": {},
   "source": [
    "# <center>6. Learning to Classify Text</center>\n",
    "\n",
    "Detecting patterns is a central part of Natural Language Processing. Words ending in \"-ed\" tend to be past tense verbs (5.). Frequent use of \"will\" is indicative of news text (3). These observable patterns — word structure and word frequency — happen to correlate with particular aspects of meaning, such as tense and topic. But how did we know where to start looking, which aspects of form to associate with which aspects of meaning?\n",
    "\n",
    "The goal of this chapter is to answer the following questions:\n",
    "\n",
    "    (1) How can we identify particular features of language data that are salient for classifying it?\n",
    "    (2) How can we construct models of language that can perform language processing tasks automatically?\n",
    "    (3) What can we learn about language from these models?\n",
    "\n",
    "Along the way we will study some important machine learning techniques, including decision trees, naive Bayes' classifiers, and maximum entropy classifiers. We will gloss over the mathematical and statistical underpinnings of these techniques, focusing instead on how and when to use them (see the Further Readings section for more technical background). Before looking at these methods, we first need to appreciate the broad scope of this topic.\n",
    "\n",
    "# 1   Supervised Classification\n",
    "Classification is the task of choosing the correct class label for a given input. In basic classification tasks, each input is considered in isolation from all other inputs, and the set of labels is defined in advance. Some examples of classification tasks are:\n",
    "\n",
    "Deciding whether an email is spam or not.\n",
    "Deciding what the topic of a news article is, from a fixed list of topic areas such as \"sports,\" \"technology,\" and \"politics.\"\n",
    "Deciding whether a given occurrence of the word bank is used to refer to a river bank, a financial institution, the act of tilting to the side, or the act of depositing something in a financial institution.\n",
    "The basic classification task has a number of interesting variants. For example, in multi-class classification, each instance may be assigned multiple labels; in open-class classification, the set of labels is not defined in advance; and in sequence classification, a list of inputs are jointly classified.\n",
    "\n",
    "A classifier is called supervised if it is built based on training corpora containing the correct label for each input. The framework used by supervised classification is shown in 1.1.\n",
    "\n",
    "![supervised-classification.png](https://raw.githubusercontent.com/vsinha-cuny/data620Proj3/master/supervised-classification.png)\n",
    "\n",
    "Figure 1.1: Supervised Classification. \n",
    "\n",
    "    (a) During training, a feature extractor is used to convert each input value to a feature set. These \n",
    "        feature sets, which capture the basic information about each input that should be used to classify it,  \n",
    "        are discussed in the next section. Pairs of feature sets and labels are fed into the machine learning        \n",
    "        algorithm to generate a model. \n",
    "\n",
    "    (b) During prediction, the same feature extractor is used to convert unseen inputs to feature sets. These \n",
    "        feature sets are then fed into the model, which generates predicted labels.\n",
    "\n",
    "In the rest of this section, we will look at how classifiers can be employed to solve a wide variety of tasks. Our discussion is not intended to be comprehensive, but to give a representative sample of tasks that can be performed with the help of text classifiers.\n",
    "\n",
    "# 1.1   Gender Identification\n",
    "\n",
    "Male and female names have some distinctive characteristics. Names ending in a, e and i are likely to be female, while names ending in k, o, r, s and t are likely to be male. Let's build a classifier to model these differences more precisely.\n",
    "\n",
    "The first step in creating a classifier is deciding what features of the input are relevant, and how to encode those features. For this example, we'll start by just looking at the final letter of a given name. The following feature extractor function builds a dictionary containing relevant information about a given name:"
   ]
  },
  {
   "cell_type": "code",
   "execution_count": 58,
   "metadata": {},
   "outputs": [],
   "source": [
    "import nltk\n",
    "import random\n",
    "import numpy as np\n",
    "\n",
    "#nltk.download('names')\n",
    "from nltk.corpus import names"
   ]
  },
  {
   "cell_type": "code",
   "execution_count": 59,
   "metadata": {},
   "outputs": [],
   "source": [
    "def gender_features(name):\n",
    "    name=name.upper()\n",
    "    return {\n",
    "        'last_letter': name[-1]\n",
    "    }"
   ]
  },
  {
   "cell_type": "code",
   "execution_count": 60,
   "metadata": {},
   "outputs": [
    {
     "data": {
      "text/plain": [
       "{'last_letter': 'K'}"
      ]
     },
     "execution_count": 60,
     "metadata": {},
     "output_type": "execute_result"
    }
   ],
   "source": [
    "gender_features('Shrek')"
   ]
  },
  {
   "cell_type": "markdown",
   "metadata": {},
   "source": [
    "Now that we've defined a feature extractor, we need to prepare a list of examples and corresponding class labels."
   ]
  },
  {
   "cell_type": "code",
   "execution_count": 61,
   "metadata": {},
   "outputs": [
    {
     "name": "stdout",
     "output_type": "stream",
     "text": [
      "7944\n"
     ]
    }
   ],
   "source": [
    "# get list of ordered names from nltk.corpus by importing names\n",
    "labeled_names = (\n",
    "                    [(name, 'male') for name in names.words('male.txt')] +\n",
    "                    [(name, 'female') for name in names.words('female.txt')]\n",
    ")\n",
    "\n",
    "random.seed(222)\n",
    "# randomized the name orders\n",
    "random.shuffle(labeled_names)\n",
    "print(len(labeled_names))"
   ]
  },
  {
   "cell_type": "markdown",
   "metadata": {},
   "source": [
    "Next, we use the feature extractor to process the names data, and divide the resulting list of feature sets into a training set and a test set. The training set is used to train a new \"naive Bayes\" classifier."
   ]
  },
  {
   "cell_type": "code",
   "execution_count": 62,
   "metadata": {},
   "outputs": [],
   "source": [
    "# featuresets, train_set & test_set are dictionaries containing 2 elements per record, \n",
    "#  - the gender function return value &\n",
    "#  - the actual gender from the labeled_names set that was imported\n",
    "featuresets = [(gender_features(n), gender) for (n, gender) in labeled_names]\n",
    "train_set, test_set = featuresets[500:], featuresets[:500]\n",
    "\n",
    "#  apply Naive Bayes guess to train set and check classifier's predictions\n",
    "classifier = nltk.NaiveBayesClassifier.train(train_set)"
   ]
  },
  {
   "cell_type": "markdown",
   "metadata": {},
   "source": [
    "We will learn more about the naive Bayes classifier later in the chapter. For now, let's just test it out on some names that did not appear in its training data:"
   ]
  },
  {
   "cell_type": "code",
   "execution_count": 63,
   "metadata": {},
   "outputs": [
    {
     "name": "stdout",
     "output_type": "stream",
     "text": [
      "Neo is: male\n",
      "Trinity is: female\n"
     ]
    }
   ],
   "source": [
    "# use trained classifier to predict 2 names gender based upon last character\n",
    "print('Neo is: ' + classifier.classify(gender_features('Neo')))\n",
    "print('Trinity is: ' + classifier.classify(gender_features('Trinity')))"
   ]
  },
  {
   "cell_type": "markdown",
   "metadata": {},
   "source": [
    "Observe that these character names from The Matrix are correctly classified. Although this science fiction movie is set in 2199, it still conforms with our expectations about names and genders. We can systematically evaluate the classifier on a much larger quantity of unseen data:\n",
    "\n"
   ]
  },
  {
   "cell_type": "code",
   "execution_count": 64,
   "metadata": {},
   "outputs": [
    {
     "name": "stdout",
     "output_type": "stream",
     "text": [
      "0.75\n"
     ]
    }
   ],
   "source": [
    "print(nltk.classify.accuracy(classifier, test_set))"
   ]
  },
  {
   "cell_type": "markdown",
   "metadata": {},
   "source": [
    "Finally, we can examine the classifier to determine which features it found most effective for distinguishing the names' genders:"
   ]
  },
  {
   "cell_type": "code",
   "execution_count": 65,
   "metadata": {},
   "outputs": [
    {
     "name": "stdout",
     "output_type": "stream",
     "text": [
      "Most Informative Features\n",
      "             last_letter = 'A'            female : male   =     38.3 : 1.0\n",
      "             last_letter = 'K'              male : female =     32.0 : 1.0\n",
      "             last_letter = 'F'              male : female =     25.6 : 1.0\n",
      "             last_letter = 'V'              male : female =     11.3 : 1.0\n",
      "             last_letter = 'P'              male : female =     11.3 : 1.0\n"
     ]
    }
   ],
   "source": [
    "classifier.show_most_informative_features(5)"
   ]
  },
  {
   "cell_type": "markdown",
   "metadata": {},
   "source": [
    "This listing shows that the names in the training set that end in \"a\" are female 33 times more often than they are male, but names that end in \"k\" are male 32 times more often than they are female. These ratios are known as likelihood ratios, and can be useful for comparing different feature-outcome relationships."
   ]
  },
  {
   "cell_type": "markdown",
   "metadata": {},
   "source": [
    "When working with large corpora, constructing a single list that contains the features of every instance can use up a large amount of memory. In these cases, use the function nltk.classify.apply_features, which returns an object that acts like a list but does not store all the feature sets in memory:"
   ]
  },
  {
   "cell_type": "code",
   "execution_count": 66,
   "metadata": {},
   "outputs": [],
   "source": [
    "from nltk.classify import apply_features\n",
    "train_set = apply_features(gender_features, labeled_names[500:])\n",
    "test_set = apply_features(gender_features, labeled_names[:500])"
   ]
  },
  {
   "cell_type": "markdown",
   "metadata": {},
   "source": [
    "Typically, feature extractors are built through a process of trial-and-error, guided by intuitions about what information is relevant to the problem. It's common to start with a \"kitchen sink\" approach, including all the features that you can think of, and then checking to see which features actually are helpful. "
   ]
  },
  {
   "cell_type": "code",
   "execution_count": 67,
   "metadata": {},
   "outputs": [],
   "source": [
    "def gender_features2(name):\n",
    "    features = {}\n",
    "    features[\"first_letter\"] = name[:1].lower()\n",
    "    features[\"first_two\"] = name[:2].lower()   \n",
    "    features[\"first_three\"] = name[:3].lower()      \n",
    "    features[\"last_letter\"] = name[-1].lower()\n",
    "    features[\"last_two\"] = name[-2:].lower()     \n",
    "    features[\"suffix3\"] = name[-3:].lower()\n",
    "    features[\"suffix4\"] = name[-4:].lower()    \n",
    "    features[\"last_is_vowel\"] = (name[-1].lower() in 'aeiouy')\n",
    "    features[\"odd\"] = (name.find(\"-\") > 0),     \n",
    "    for letter in 'abcdefghijklmnopqrstuvwxyz':\n",
    "        features[\"count({})\".format(letter)] = name.lower().count(letter)\n",
    "        features[\"has({})\".format(letter)] = (letter in name.lower())\n",
    "    return features"
   ]
  },
  {
   "cell_type": "code",
   "execution_count": 68,
   "metadata": {},
   "outputs": [],
   "source": [
    "# featuresets, train_set & test_set are dictionaries containing 2 elements per record, \n",
    "#  - the gender function return value &\n",
    "#  - the actual gender from the labeled_names set that was imported\n",
    "featuresets = [(gender_features2(n), gender) for (n, gender) in labeled_names]\n",
    "train_set, test_set = featuresets[500:], featuresets[:500]\n",
    "\n",
    "#  apply Naive Bayes guess to train set and check classifier's predictions\n",
    "classifier = nltk.NaiveBayesClassifier.train(train_set)"
   ]
  },
  {
   "cell_type": "code",
   "execution_count": 69,
   "metadata": {},
   "outputs": [
    {
     "name": "stdout",
     "output_type": "stream",
     "text": [
      "Most Informative Features\n",
      "                last_two = 'na'           female : male   =     98.5 : 1.0\n",
      "                last_two = 'la'           female : male   =     73.2 : 1.0\n",
      "                last_two = 'ia'           female : male   =     39.9 : 1.0\n",
      "             last_letter = 'a'            female : male   =     38.3 : 1.0\n",
      "             last_letter = 'k'              male : female =     32.0 : 1.0\n",
      "                last_two = 'us'             male : female =     28.6 : 1.0\n",
      "                 suffix4 = 'bert'           male : female =     26.4 : 1.0\n",
      "                 suffix3 = 'tta'          female : male   =     26.1 : 1.0\n",
      "             last_letter = 'f'              male : female =     25.6 : 1.0\n",
      "                last_two = 'ta'           female : male   =     25.5 : 1.0\n",
      "                last_two = 'ra'           female : male   =     25.4 : 1.0\n",
      "                 suffix3 = 'ana'          female : male   =     24.8 : 1.0\n",
      "                last_two = 'ld'             male : female =     24.5 : 1.0\n",
      "                last_two = 'rd'             male : female =     24.5 : 1.0\n",
      "                last_two = 'do'             male : female =     24.1 : 1.0\n",
      "                 suffix4 = 'etta'         female : male   =     23.9 : 1.0\n",
      "                last_two = 'rt'             male : female =     23.8 : 1.0\n",
      "                 suffix4 = 'anne'         female : male   =     22.9 : 1.0\n",
      "                last_two = 'os'             male : female =     20.7 : 1.0\n",
      "                 suffix3 = 'ard'            male : female =     20.4 : 1.0\n",
      "                 suffix3 = 'nne'          female : male   =     19.7 : 1.0\n",
      "               first_two = 'hu'             male : female =     18.5 : 1.0\n",
      "                 suffix3 = 'old'            male : female =     18.3 : 1.0\n",
      "                last_two = 'io'             male : female =     16.5 : 1.0\n",
      "                 suffix3 = 'ita'          female : male   =     15.7 : 1.0\n",
      "                last_two = 'ka'           female : male   =     14.5 : 1.0\n",
      "                last_two = 'ch'             male : female =     14.4 : 1.0\n",
      "                 suffix3 = 'dra'          female : male   =     13.8 : 1.0\n",
      "                 suffix3 = 'ela'          female : male   =     13.8 : 1.0\n",
      "                 suffix3 = 'ert'            male : female =     13.2 : 1.0\n",
      "             first_three = 'tha'            male : female =     13.1 : 1.0\n",
      "                 suffix3 = 'son'            male : female =     13.1 : 1.0\n",
      "                 suffix3 = 'ria'          female : male   =     13.0 : 1.0\n",
      "               first_two = 'ya'             male : female =     12.9 : 1.0\n",
      "             first_three = 'cat'          female : male   =     12.5 : 1.0\n",
      "                last_two = 'ya'           female : male   =     11.7 : 1.0\n",
      "                 suffix3 = 'nni'          female : male   =     11.7 : 1.0\n",
      "                 suffix3 = 'vin'            male : female =     11.6 : 1.0\n",
      "             last_letter = 'p'              male : female =     11.3 : 1.0\n",
      "             last_letter = 'v'              male : female =     11.3 : 1.0\n",
      "                last_two = 'im'             male : female =     11.1 : 1.0\n",
      "                 suffix4 = 'ndra'         female : male   =     10.9 : 1.0\n",
      "               first_two = 'tu'             male : female =     10.7 : 1.0\n",
      "                last_two = 'ip'             male : female =     10.6 : 1.0\n",
      "                last_two = 'ns'             male : female =     10.6 : 1.0\n",
      "                last_two = 'rn'             male : female =     10.6 : 1.0\n",
      "             first_three = 'dor'          female : male   =     10.5 : 1.0\n",
      "                last_two = 'ti'           female : male   =     10.5 : 1.0\n",
      "                 suffix3 = 'tha'          female : male   =     10.4 : 1.0\n",
      "             first_three = 'ros'          female : male   =     10.3 : 1.0\n"
     ]
    }
   ],
   "source": [
    "classifier.show_most_informative_features(50)"
   ]
  },
  {
   "cell_type": "code",
   "execution_count": 70,
   "metadata": {},
   "outputs": [],
   "source": [
    "# Extract features for the Isabelle as an example\n",
    "# gender_features2('Isabelle') "
   ]
  },
  {
   "cell_type": "markdown",
   "metadata": {},
   "source": [
    "However, there are usually limits to the number of features that you should use with a given learning algorithm — if you provide too many features, then the algorithm will have a higher chance of relying on idiosyncrasies of your training data that don't generalize well to new examples. This problem is known as overfitting, and can be especially problematic when working with small training sets. For example, if we train a naive Bayes classifier using the feature extractor shown in 1.2, it will overfit the relatively small training set, resulting in a system whose accuracy is about 1% lower than the accuracy of a classifier that only pays attention to the final letter of each name:"
   ]
  },
  {
   "cell_type": "code",
   "execution_count": 71,
   "metadata": {},
   "outputs": [
    {
     "name": "stdout",
     "output_type": "stream",
     "text": [
      "Naive Bayes Accuracy: 0.832\n"
     ]
    }
   ],
   "source": [
    "featuresets = [(gender_features2(n), gender) for (n, gender) in labeled_names]\n",
    "train_set, test_set = featuresets[500:], featuresets[:500]\n",
    "classifier = nltk.NaiveBayesClassifier.train(train_set)\n",
    "LastLetterOnly = nltk.classify.accuracy(classifier, test_set)\n",
    "print(f'Naive Bayes Accuracy: {LastLetterOnly}')"
   ]
  },
  {
   "cell_type": "markdown",
   "metadata": {},
   "source": [
    "Once an initial set of features has been chosen, a very productive method for refining the feature set is error analysis. First, we select a development set, containing the corpus data for creating the model. This development set is then subdivided into the training set and the dev-test set."
   ]
  },
  {
   "cell_type": "code",
   "execution_count": 72,
   "metadata": {},
   "outputs": [],
   "source": [
    "train_names = labeled_names[1500:]\n",
    "devtest_names = labeled_names[500:1500]\n",
    "test_names = labeled_names[:500]"
   ]
  },
  {
   "cell_type": "markdown",
   "metadata": {},
   "source": [
    "The training set is used to train the model, and the dev-test set is used to perform error analysis. The test set serves in our final evaluation of the system. For reasons discussed below, it is important that we employ a separate dev-test set for error analysis, rather than just using the test set. The division of the corpus data into different subsets is shown in 1.3.\n",
    "\n"
   ]
  },
  {
   "cell_type": "markdown",
   "metadata": {},
   "source": [
    "![corpus-org.png](https://raw.githubusercontent.com/vsinha-cuny/data620Proj3/master/corpus-org.png)\n",
    "\n",
    "Figure 1.3: Organization of corpus data for training supervised classifiers. The corpus data is divided into two sets: the development set, and the test set. The development set is often further subdivided into a training set and a dev-test set.\n",
    "\n",
    "Having divided the corpus into appropriate datasets, we train a model using the training set [1], and then run it on the dev-test set [2]."
   ]
  },
  {
   "cell_type": "code",
   "execution_count": 73,
   "metadata": {},
   "outputs": [
    {
     "name": "stdout",
     "output_type": "stream",
     "text": [
      "Naive Bayes Accuracy: 0.83\n"
     ]
    }
   ],
   "source": [
    "train_set = [(gender_features2(n), gender) for (n, gender) in train_names]\n",
    "devtest_set = [(gender_features2(n), gender) for (n, gender) in devtest_names]\n",
    "test_set = [(gender_features2(n), gender) for (n, gender) in test_names]\n",
    "classifier = nltk.NaiveBayesClassifier.train(train_set) # [1]\n",
    "\n",
    "Features2 = nltk.classify.accuracy(classifier, devtest_set)\n",
    "print(f'Naive Bayes Accuracy: {Features2}')"
   ]
  },
  {
   "cell_type": "markdown",
   "metadata": {},
   "source": [
    "We also considered using a Decision Tree classifier, but proceeded with the Naive Bayes classifier instead due to its greater accuracy.\n",
    "\n",
    "![decision-tree.png](https://raw.githubusercontent.com/vsinha-cuny/data620Proj3/master/decision-tree.png)"
   ]
  },
  {
   "cell_type": "code",
   "execution_count": 74,
   "metadata": {},
   "outputs": [
    {
     "name": "stdout",
     "output_type": "stream",
     "text": [
      "Decision Tree Accuracy: 0.661\n"
     ]
    }
   ],
   "source": [
    "classifier2 = nltk.DecisionTreeClassifier.train(train_set)\n",
    "Features2_DecisionTree = nltk.classify.accuracy(classifier2, devtest_set)\n",
    "print(f'Decision Tree Accuracy: {Features2_DecisionTree}')"
   ]
  },
  {
   "cell_type": "code",
   "execution_count": 75,
   "metadata": {},
   "outputs": [
    {
     "name": "stdout",
     "output_type": "stream",
     "text": [
      "  ==> Training (100 iterations)\n",
      "\n",
      "      Iteration    Log Likelihood    Accuracy\n",
      "      ---------------------------------------\n",
      "             1          -0.69315        0.369\n",
      "             2          -0.58520        0.631\n",
      "             3          -0.55025        0.636\n",
      "             4          -0.51942        0.696\n",
      "             5          -0.49228        0.760\n",
      "             6          -0.46839        0.800\n",
      "             7          -0.44731        0.823\n",
      "             8          -0.42864        0.839\n",
      "             9          -0.41203        0.853\n",
      "            10          -0.39718        0.863\n",
      "            11          -0.38385        0.870\n",
      "            12          -0.37182        0.875\n",
      "            13          -0.36091        0.878\n",
      "            14          -0.35097        0.880\n",
      "            15          -0.34189        0.883\n",
      "            16          -0.33354        0.887\n",
      "            17          -0.32585        0.889\n",
      "            18          -0.31873        0.892\n",
      "            19          -0.31212        0.893\n",
      "            20          -0.30596        0.896\n",
      "            21          -0.30022        0.897\n",
      "            22          -0.29483        0.899\n",
      "            23          -0.28977        0.900\n",
      "            24          -0.28501        0.900\n",
      "            25          -0.28052        0.902\n",
      "            26          -0.27627        0.904\n",
      "            27          -0.27224        0.904\n",
      "            28          -0.26842        0.906\n",
      "            29          -0.26478        0.908\n",
      "            30          -0.26132        0.908\n",
      "            31          -0.25801        0.909\n",
      "            32          -0.25485        0.910\n",
      "            33          -0.25183        0.911\n",
      "            34          -0.24893        0.912\n",
      "            35          -0.24614        0.913\n",
      "            36          -0.24347        0.915\n",
      "            37          -0.24090        0.917\n",
      "            38          -0.23842        0.918\n",
      "            39          -0.23603        0.918\n",
      "            40          -0.23373        0.918\n",
      "            41          -0.23150        0.919\n",
      "            42          -0.22935        0.919\n",
      "            43          -0.22727        0.920\n",
      "            44          -0.22525        0.921\n",
      "            45          -0.22330        0.922\n",
      "            46          -0.22141        0.922\n",
      "            47          -0.21957        0.923\n",
      "            48          -0.21778        0.924\n",
      "            49          -0.21605        0.925\n",
      "            50          -0.21436        0.926\n",
      "            51          -0.21272        0.926\n",
      "            52          -0.21112        0.926\n",
      "            53          -0.20957        0.927\n",
      "            54          -0.20805        0.928\n",
      "            55          -0.20657        0.928\n",
      "            56          -0.20513        0.929\n",
      "            57          -0.20372        0.929\n",
      "            58          -0.20234        0.930\n",
      "            59          -0.20100        0.930\n",
      "            60          -0.19969        0.930\n",
      "            61          -0.19841        0.931\n",
      "            62          -0.19715        0.931\n",
      "            63          -0.19593        0.932\n",
      "            64          -0.19473        0.932\n",
      "            65          -0.19355        0.933\n",
      "            66          -0.19240        0.933\n",
      "            67          -0.19127        0.934\n",
      "            68          -0.19017        0.934\n",
      "            69          -0.18908        0.934\n",
      "            70          -0.18802        0.934\n",
      "            71          -0.18698        0.934\n",
      "            72          -0.18596        0.935\n",
      "            73          -0.18495        0.935\n",
      "            74          -0.18397        0.935\n",
      "            75          -0.18300        0.935\n",
      "            76          -0.18205        0.935\n",
      "            77          -0.18112        0.936\n",
      "            78          -0.18021        0.936\n",
      "            79          -0.17931        0.936\n",
      "            80          -0.17842        0.936\n",
      "            81          -0.17755        0.936\n",
      "            82          -0.17670        0.937\n",
      "            83          -0.17586        0.937\n",
      "            84          -0.17503        0.938\n",
      "            85          -0.17421        0.938\n",
      "            86          -0.17341        0.938\n",
      "            87          -0.17262        0.938\n",
      "            88          -0.17185        0.938\n",
      "            89          -0.17108        0.938\n",
      "            90          -0.17033        0.939\n",
      "            91          -0.16959        0.939\n",
      "            92          -0.16886        0.939\n",
      "            93          -0.16814        0.940\n",
      "            94          -0.16743        0.940\n",
      "            95          -0.16674        0.940\n",
      "            96          -0.16605        0.940\n",
      "            97          -0.16537        0.940\n",
      "            98          -0.16470        0.940\n",
      "            99          -0.16404        0.940\n",
      "         Final          -0.16339        0.940\n",
      "Maximum entropy Accuracy: 0.826\n"
     ]
    }
   ],
   "source": [
    "classifier3 = nltk.MaxentClassifier.train(train_set)\n",
    "\n",
    "Features2_MaxEnt = nltk.classify.accuracy(classifier3, devtest_set)\n",
    "print(f'Maximum entropy Accuracy: {Features2_MaxEnt}')"
   ]
  },
  {
   "cell_type": "markdown",
   "metadata": {},
   "source": [
    "Using the dev-test set, we can generate a list of the errors that the classifier makes when predicting name genders:"
   ]
  },
  {
   "cell_type": "code",
   "execution_count": 78,
   "metadata": {},
   "outputs": [],
   "source": [
    "errors = []\n",
    "for (name, tag) in devtest_names:\n",
    "    guess = classifier.classify(gender_features2(name))\n",
    "    if guess != tag:\n",
    "        errors.append( (tag, guess, name)\n",
    ") "
   ]
  },
  {
   "cell_type": "markdown",
   "metadata": {},
   "source": [
    "We can then examine individual error cases where the model predicted the wrong label, and try to determine what additional pieces of information would allow it to make the right decision (or which existing pieces of information are tricking it into making the wrong decision). The feature set can then be adjusted accordingly. The names classifier that we have built generates about 100 errors on the dev-test corpus:\n",
    "\n"
   ]
  },
  {
   "cell_type": "code",
   "execution_count": 79,
   "metadata": {},
   "outputs": [
    {
     "name": "stdout",
     "output_type": "stream",
     "text": [
      "correct=female   guess=male     name=Adrian                        \n",
      "correct=female   guess=male     name=Alix                          \n",
      "correct=female   guess=male     name=Allison                       \n",
      "correct=female   guess=male     name=Alyson                        \n",
      "correct=female   guess=male     name=Angil                         \n",
      "correct=female   guess=male     name=Averil                        \n",
      "correct=female   guess=male     name=Bess                          \n",
      "correct=female   guess=male     name=Beulah                        \n",
      "correct=female   guess=male     name=Biddy                         \n",
      "correct=female   guess=male     name=Bill                          \n",
      "correct=female   guess=male     name=Bridgett                      \n",
      "correct=female   guess=male     name=Charis                        \n",
      "correct=female   guess=male     name=Christin                      \n",
      "correct=female   guess=male     name=Chrystel                      \n",
      "correct=female   guess=male     name=Clair                         \n",
      "correct=female   guess=male     name=Clem                          \n",
      "correct=female   guess=male     name=Clio                          \n",
      "correct=female   guess=male     name=Clovis                        \n",
      "correct=female   guess=male     name=Daffy                         \n",
      "correct=female   guess=male     name=Darryl                        \n",
      "correct=female   guess=male     name=Dell                          \n",
      "correct=female   guess=male     name=Dix                           \n",
      "correct=female   guess=male     name=Dorothy                       \n",
      "correct=female   guess=male     name=Easter                        \n",
      "correct=female   guess=male     name=Effie                         \n",
      "correct=female   guess=male     name=Elinor                        \n",
      "correct=female   guess=male     name=Erin                          \n",
      "correct=female   guess=male     name=Fey                           \n",
      "correct=female   guess=male     name=Gaby                          \n",
      "correct=female   guess=male     name=Gates                         \n",
      "correct=female   guess=male     name=Gaynor                        \n",
      "correct=female   guess=male     name=Gen                           \n",
      "correct=female   guess=male     name=Gillan                        \n",
      "correct=female   guess=male     name=Glen                          \n",
      "correct=female   guess=male     name=Guendolen                     \n",
      "correct=female   guess=male     name=Gus                           \n",
      "correct=female   guess=male     name=Gypsy                         \n",
      "correct=female   guess=male     name=Harriott                      \n",
      "correct=female   guess=male     name=Hazel                         \n",
      "correct=female   guess=male     name=Hedy                          \n",
      "correct=female   guess=male     name=Hildagard                     \n",
      "correct=female   guess=male     name=Hildegaard                    \n",
      "correct=female   guess=male     name=Hope                          \n",
      "correct=female   guess=male     name=Ike                           \n",
      "correct=female   guess=male     name=Isabeau                       \n",
      "correct=female   guess=male     name=Jan                           \n",
      "correct=female   guess=male     name=Jazmin                        \n",
      "correct=female   guess=male     name=Jenifer                       \n",
      "correct=female   guess=male     name=Jerry                         \n",
      "correct=female   guess=male     name=Jewel                         \n",
      "correct=female   guess=male     name=Jo                            \n",
      "correct=female   guess=male     name=Joellen                       \n",
      "correct=female   guess=male     name=Jonell                        \n",
      "correct=female   guess=male     name=Jorey                         \n",
      "correct=female   guess=male     name=Jourdan                       \n",
      "correct=female   guess=male     name=Joy                           \n",
      "correct=female   guess=male     name=Judy                          \n",
      "correct=female   guess=male     name=Keren                         \n",
      "correct=female   guess=male     name=Kit                           \n",
      "correct=female   guess=male     name=Kristen                       \n",
      "correct=female   guess=male     name=Kristien                      \n",
      "correct=female   guess=male     name=Leigh                         \n",
      "correct=female   guess=male     name=Lilas                         \n",
      "correct=female   guess=male     name=Luce                          \n",
      "correct=female   guess=male     name=Mab                           \n",
      "correct=female   guess=male     name=Maddy                         \n",
      "correct=female   guess=male     name=Maren                         \n",
      "correct=female   guess=male     name=Margret                       \n",
      "correct=female   guess=male     name=Marlo                         \n",
      "correct=female   guess=male     name=Maryjo                        \n",
      "correct=female   guess=male     name=Maud                          \n",
      "correct=female   guess=male     name=Meagan                        \n",
      "correct=female   guess=male     name=Meg                           \n",
      "correct=female   guess=male     name=Milissent                     \n",
      "correct=female   guess=male     name=Moll                          \n",
      "correct=female   guess=male     name=Noel                          \n",
      "correct=female   guess=male     name=Noell                         \n",
      "correct=female   guess=male     name=Olwen                         \n",
      "correct=female   guess=male     name=Peggy                         \n",
      "correct=female   guess=male     name=Prudence                      \n",
      "correct=female   guess=male     name=Ragnhild                      \n",
      "correct=female   guess=male     name=Rahal                         \n",
      "correct=female   guess=male     name=Rahel                         \n",
      "correct=female   guess=male     name=Robinet                       \n",
      "correct=female   guess=male     name=Rochell                       \n",
      "correct=female   guess=male     name=Romy                          \n",
      "correct=female   guess=male     name=Roobbie                       \n",
      "correct=female   guess=male     name=Rubi                          \n",
      "correct=female   guess=male     name=Sammy                         \n",
      "correct=female   guess=male     name=Scarlett                      \n",
      "correct=female   guess=male     name=Shay                          \n",
      "correct=female   guess=male     name=Sib                           \n",
      "correct=female   guess=male     name=Stacy                         \n",
      "correct=female   guess=male     name=Stormy                        \n",
      "correct=female   guess=male     name=Vin                           \n",
      "correct=female   guess=male     name=Willy                         \n",
      "correct=female   guess=male     name=Winnah                        \n",
      "correct=female   guess=male     name=Winnifred                     \n",
      "correct=female   guess=male     name=Wren                          \n",
      "correct=female   guess=male     name=Zoe                           \n",
      "correct=male     guess=female   name=Abby                          \n",
      "correct=male     guess=female   name=Ajai                          \n",
      "correct=male     guess=female   name=Alaa                          \n",
      "correct=male     guess=female   name=Allah                         \n",
      "correct=male     guess=female   name=Amery                         \n",
      "correct=male     guess=female   name=Antone                        \n",
      "correct=male     guess=female   name=Arnie                         \n",
      "correct=male     guess=female   name=Ashley                        \n",
      "correct=male     guess=female   name=Benji                         \n",
      "correct=male     guess=female   name=Benny                         \n",
      "correct=male     guess=female   name=Billie                        \n",
      "correct=male     guess=female   name=Blake                         \n",
      "correct=male     guess=female   name=Cammy                         \n",
      "correct=male     guess=female   name=Carlin                        \n",
      "correct=male     guess=female   name=Carsten                       \n",
      "correct=male     guess=female   name=Cary                          \n",
      "correct=male     guess=female   name=Cass                          \n",
      "correct=male     guess=female   name=Cat                           \n",
      "correct=male     guess=female   name=Che                           \n",
      "correct=male     guess=female   name=Claude                        \n",
      "correct=male     guess=female   name=Cody                          \n",
      "correct=male     guess=female   name=Cortese                       \n",
      "correct=male     guess=female   name=Courtney                      \n",
      "correct=male     guess=female   name=Dannie                        \n",
      "correct=male     guess=female   name=Doyle                         \n",
      "correct=male     guess=female   name=Duane                         \n",
      "correct=male     guess=female   name=Eddie                         \n",
      "correct=male     guess=female   name=Elisha                        \n",
      "correct=male     guess=female   name=Elmore                        \n",
      "correct=male     guess=female   name=Esteban                       \n",
      "correct=male     guess=female   name=Gene                          \n",
      "correct=male     guess=female   name=Hari                          \n",
      "correct=male     guess=female   name=Henrie                        \n",
      "correct=male     guess=female   name=Holly                         \n",
      "correct=male     guess=female   name=Huntlee                       \n",
      "correct=male     guess=female   name=Jodie                         \n",
      "correct=male     guess=female   name=Jody                          \n",
      "correct=male     guess=female   name=Jose                          \n",
      "correct=male     guess=female   name=Juanita                       \n",
      "correct=male     guess=female   name=Jude                          \n",
      "correct=male     guess=female   name=Kenny                         \n",
      "correct=male     guess=female   name=Klee                          \n",
      "correct=male     guess=female   name=Krishna                       \n",
      "correct=male     guess=female   name=Lin                           \n",
      "correct=male     guess=female   name=Lorrie                        \n",
      "correct=male     guess=female   name=Lynn                          \n",
      "correct=male     guess=female   name=Marlowe                       \n",
      "correct=male     guess=female   name=Martainn                      \n",
      "correct=male     guess=female   name=Martie                        \n",
      "correct=male     guess=female   name=Micah                         \n",
      "correct=male     guess=female   name=Moishe                        \n",
      "correct=male     guess=female   name=Morlee                        \n",
      "correct=male     guess=female   name=Page                          \n",
      "correct=male     guess=female   name=Pate                          \n",
      "correct=male     guess=female   name=Patsy                         \n",
      "correct=male     guess=female   name=Pattie                        \n",
      "correct=male     guess=female   name=Pete                          \n",
      "correct=male     guess=female   name=Reece                         \n",
      "correct=male     guess=female   name=Reggie                        \n",
      "correct=male     guess=female   name=Rory                          \n",
      "correct=male     guess=female   name=Samuele                       \n",
      "correct=male     guess=female   name=Sean                          \n",
      "correct=male     guess=female   name=Simone                        \n",
      "correct=male     guess=female   name=Sloane                        \n",
      "correct=male     guess=female   name=Sydney                        \n",
      "correct=male     guess=female   name=Tracie                        \n",
      "correct=male     guess=female   name=Valentin                      \n",
      "correct=male     guess=female   name=Vance                         \n",
      "correct=male     guess=female   name=Vinnie                        \n",
      "correct=male     guess=female   name=Wylie                         \n"
     ]
    }
   ],
   "source": [
    "for (tag, guess, name) in sorted(errors):\n",
    "    print('correct={:<8} guess={:<8s} name={:<30}'.format(tag, guess, name))"
   ]
  },
  {
   "cell_type": "markdown",
   "metadata": {},
   "source": [
    "Looking through this list of errors makes it clear that some suffixes that are more than one letter can be indicative of name genders. For example, names ending in yn appear to be predominantly female, despite the fact that names ending in n tend to be male; and names ending in ch are usually male, even though names that end in h tend to be female. We therefore adjust our feature extractor to include features for two-letter suffixes:\n",
    "\n"
   ]
  },
  {
   "cell_type": "code",
   "execution_count": 80,
   "metadata": {},
   "outputs": [],
   "source": [
    "def gender_features(word):\n",
    "    return {'suffix1': word[-1:],'suffix2': word[-2:]}"
   ]
  },
  {
   "cell_type": "markdown",
   "metadata": {},
   "source": [
    "Rebuilding the classifier with the new feature extractor, we see that the performance on the dev-test dataset improves by almost 2 percentage points (from 76.5% to 78.2%):"
   ]
  },
  {
   "cell_type": "code",
   "execution_count": 81,
   "metadata": {},
   "outputs": [
    {
     "name": "stdout",
     "output_type": "stream",
     "text": [
      "0.793\n"
     ]
    }
   ],
   "source": [
    "train_set = [(gender_features(n), gender) for (n, gender) in train_names]\n",
    "devtest_set = [(gender_features(n), gender) for (n, gender) in devtest_names]\n",
    "classifier = nltk.NaiveBayesClassifier.train(train_set)\n",
    "print(nltk.classify.accuracy(classifier, devtest_set))\n",
    "\n",
    "Suffixes = nltk.classify.accuracy(classifier, devtest_set)"
   ]
  },
  {
   "cell_type": "code",
   "execution_count": 82,
   "metadata": {},
   "outputs": [
    {
     "data": {
      "image/png": "[encoded data removed]",
      "text/plain": [
       "<Figure size 432x288 with 1 Axes>"
      ]
     },
     "metadata": {
      "needs_background": "light"
     },
     "output_type": "display_data"
    }
   ],
   "source": [
    "import matplotlib.pyplot as plt\n",
    "\n",
    "label = [\n",
    "    \"LastLetter\",\n",
    "    \"MultiLenSeqs\",\n",
    "    \"Multi_DecTree\",\n",
    "    \"Multi_MaxEntropy\",\n",
    "    \"Suffixes\"\n",
    "]\n",
    "\n",
    "dev_test_accuracy = [\n",
    "    LastLetterOnly,  # feature based only on last letter in name\n",
    "    Features2,       # a mix of 1,2,3,4 letter sequences plus letter counts\n",
    "    Features2_DecisionTree, # same as Features2 but use of decision tree\n",
    "    Features2_MaxEnt, # same as Features2 but uses Maximum Entropy\n",
    "    Suffixes          # feature based on 1 and 2-letter suffix only\n",
    "]\n",
    "\n",
    "index = np.arange(len(dev_test_accuracy))\n",
    "plt.bar(index, dev_test_accuracy)\n",
    "plt.xlabel(\"Model Type\", fontsize=18)\n",
    "plt.ylabel(\"Dev Test Accuracy\", fontsize=18)\n",
    "plt.xticks(index, label, rotation=30)\n",
    "plt.title(\"Dev Test Accuracy for Various Models\", fontsize=18)\n",
    "plt.show()"
   ]
  },
  {
   "cell_type": "markdown",
   "metadata": {},
   "source": [
    "***Model List Description***\n",
    "\n",
    "1. Naive Bayes, Last letter only in name\n",
    "2. Naive Bayes, uses sequences of 1,2,3,4 letters in name\n",
    "3. Decision Tree, uses sequences of 1,2,3,4 letters in name\n",
    "4. Maximum Entropy, uses sequences of 1,2,3,4 letters in name\n",
    "5. Naive Bayes, uses suffixes of length 1 and 2 only"
   ]
  },
  {
   "cell_type": "markdown",
   "metadata": {},
   "source": [
    "This error analysis procedure can then be repeated, checking for patterns in the errors that are made by the newly improved classifier. Each time the error analysis procedure is repeated, we should select a different dev-test/training split, to ensure that the classifier does not start to reflect idiosyncrasies in the dev-test set.\n",
    "\n",
    "But once we've used the dev-test set to help us develop the model, we can no longer trust that it will give us an accurate idea of how well the model would perform on new data. It is therefore important to keep the test set separate, and unused, until our model development is complete. At that point, we can use the test set to evaluate how well our model will perform on new input values."
   ]
  }
 ],
 "metadata": {
  "kernelspec": {
   "display_name": "Python 3",
   "language": "python",
   "name": "python3"
  },
  "language_info": {
   "codemirror_mode": {
    "name": "ipython",
    "version": 3
   },
   "file_extension": ".py",
   "mimetype": "text/x-python",
   "name": "python",
   "nbconvert_exporter": "python",
   "pygments_lexer": "ipython3",
   "version": "3.6.8"
  }
 },
 "nbformat": 4,
 "nbformat_minor": 2
}
